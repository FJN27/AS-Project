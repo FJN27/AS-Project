{
 "cells": [
  {
   "cell_type": "code",
   "execution_count": 6,
   "id": "7f45e033",
   "metadata": {},
   "outputs": [],
   "source": [
    "import numpy as np\n",
    "import matplotlib.pyplot as plt\n",
    "import lightkurve as lk\n",
    "from mandelagol import occultquad\n",
    "from sys import argv\n",
    "import pandas as pd\n",
    "\n",
    "plt.rcParams['font.size'] = 24\n",
    "plt.rcParams['figure.figsize'] = [20,10]"
   ]
  },
  {
   "cell_type": "code",
   "execution_count": 7,
   "id": "9198dac7",
   "metadata": {},
   "outputs": [
    {
     "name": "stdout",
     "output_type": "stream",
     "text": [
      "111790491\n"
     ]
    }
   ],
   "source": [
    "tess_arrry = [111790491, 112857692, 121535634, 137637285, 137823142]\n",
    "\n",
    "firstElement = tess_arrry[0]\n",
    "\n",
    "print(firstElement)  \n",
    "star = 'TIC'"
   ]
  },
  {
   "cell_type": "code",
   "execution_count": 17,
   "id": "ea471784",
   "metadata": {},
   "outputs": [
    {
     "name": "stdout",
     "output_type": "stream",
     "text": [
      "                111790491,292.239,29.9183,12.62,G04214\n",
      "0              112857692,292.6476,28.8481,12.21,G04214\n",
      "1              121535634,288.1192,38.4366,13.16,G04214\n",
      "2              137637285,292.4262,37.5536,12.97,G04214\n",
      "3              137823142,292.7979,36.1367,12.61,G04214\n",
      "4               21848967,292.4154,34.2161,13.66,G04214\n",
      "..                                                 ...\n",
      "631             313007938,137.7999,74.018,15.78,G04214\n",
      "632             356602984,133.389,67.4097,14.48,G04214\n",
      "633  417839594,147.3526,65.1402,11.59,G04214;G04178...\n",
      "634     430246811,137.1949,66.5932,10.67,G04214;G04186\n",
      "635      86339165,143.5327,64.3802,12.59,G04214;G04178\n",
      "\n",
      "[636 rows x 1 columns]\n"
     ]
    }
   ],
   "source": [
    "df = pd.read_excel('sector_40.xlsx')\n",
    "print(df)"
   ]
  },
  {
   "cell_type": "code",
   "execution_count": 5,
   "id": "49f6b5c5",
   "metadata": {},
   "outputs": [],
   "source": [
    "with open(\"sector_40.txt\") as f:\n",
    "    lines = f.readlines()\n",
    "    for i in lines:\n",
    "        print (i)"
   ]
  },
  {
   "cell_type": "code",
   "execution_count": null,
   "id": "44da764b",
   "metadata": {},
   "outputs": [],
   "source": []
  }
 ],
 "metadata": {
  "kernelspec": {
   "display_name": "Python 3",
   "language": "python",
   "name": "python3"
  },
  "language_info": {
   "codemirror_mode": {
    "name": "ipython",
    "version": 3
   },
   "file_extension": ".py",
   "mimetype": "text/x-python",
   "name": "python",
   "nbconvert_exporter": "python",
   "pygments_lexer": "ipython3",
   "version": "3.8.8"
  }
 },
 "nbformat": 4,
 "nbformat_minor": 5
}
