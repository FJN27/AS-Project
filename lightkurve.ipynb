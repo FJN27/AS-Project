{
 "cells": [
  {
   "cell_type": "code",
   "execution_count": null,
   "id": "46bfbeac",
   "metadata": {},
   "outputs": [],
   "source": [
    "import lightkurve as lk\n",
    "import matplotlib.pyplot as plt"
   ]
  },
  {
   "cell_type": "code",
   "execution_count": null,
   "id": "62ed16d5",
   "metadata": {},
   "outputs": [],
   "source": [
    "search_result = lk.search_targetpixelfile('WASP-18', mission = 'Tess')\n",
    "\n",
    "tpf = search_result.download_all(quality_bitmask = 'default')\n",
    "# tpf = tess pixel file\n",
    "\n",
    "print(tpf)\n",
    "\n",
    "i=1\n",
    "aperture_mask = tpf[i].create_threshold_mask(threshold = 10)\n",
    "lc = tpf[i].to_lightcurve(apperture_mask = apperture_mask).flatten(window=1000)\n",
    "\n",
    "tpf[i].plot()\n",
    "lc.plot()"
   ]
  },
  {
   "cell_type": "code",
   "execution_count": null,
   "id": "4b863d5a",
   "metadata": {},
   "outputs": [],
   "source": []
  }
 ],
 "metadata": {
  "kernelspec": {
   "display_name": "Python 3",
   "language": "python",
   "name": "python3"
  },
  "language_info": {
   "codemirror_mode": {
    "name": "ipython",
    "version": 3
   },
   "file_extension": ".py",
   "mimetype": "text/x-python",
   "name": "python",
   "nbconvert_exporter": "python",
   "pygments_lexer": "ipython3",
   "version": "3.8.8"
  }
 },
 "nbformat": 4,
 "nbformat_minor": 5
}
