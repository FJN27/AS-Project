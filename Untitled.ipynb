{
 "cells": [
  {
   "cell_type": "code",
   "execution_count": 1,
   "id": "eb4b0f34",
   "metadata": {},
   "outputs": [],
   "source": [
    "import numpy as np\n",
    "import matplotlib.pyplot as plt\n",
    "import lightkurve as lk\n",
    "from scipy import optimize\n",
    "from mandelagol import occultquad\n",
    "\n",
    "plt.rcParams['font.size'] = 24\n",
    "plt.rcParams['figure.figsize'] = [20,10]"
   ]
  },
  {
   "cell_type": "code",
   "execution_count": 3,
   "id": "72b88095",
   "metadata": {},
   "outputs": [
    {
     "data": {
      "text/html": [
       "SearchResult containing 5 data products.\n",
       "\n",
       "<table id=\"table140385703723552\">\n",
       "<thead><tr><th>#</th><th>mission</th><th>year</th><th>author</th><th>exptime</th><th>target_name</th><th>distance</th></tr></thead>\n",
       "<thead><tr><th></th><th></th><th></th><th></th><th>s</th><th></th><th>arcsec</th></tr></thead>\n",
       "<tr><td>0</td><td>TESS Sector 14</td><td>2019</td><td><a href='https://heasarc.gsfc.nasa.gov/docs/tess/pipeline.html'>SPOC</a></td><td>120</td><td>111790491</td><td>0.0</td></tr>\n",
       "<tr><td>1</td><td>TESS Sector 14</td><td>2019</td><td><a href='https://archive.stsci.edu/hlsp/tess-spoc'>TESS-SPOC</a></td><td>1800</td><td>111790491</td><td>0.0</td></tr>\n",
       "<tr><td>2</td><td>TESS Sector 14</td><td>2019</td><td><a href='https://archive.stsci.edu/hlsp/qlp'>QLP</a></td><td>1800</td><td>111790491</td><td>0.0</td></tr>\n",
       "<tr><td>3</td><td>TESS Sector 40</td><td>2021</td><td><a href='https://heasarc.gsfc.nasa.gov/docs/tess/pipeline.html'>SPOC</a></td><td>120</td><td>111790491</td><td>0.0</td></tr>\n",
       "<tr><td>4</td><td>TESS Sector 41</td><td>2021</td><td><a href='https://heasarc.gsfc.nasa.gov/docs/tess/pipeline.html'>SPOC</a></td><td>120</td><td>111790491</td><td>0.0</td></tr>\n",
       "</table>"
      ],
      "text/plain": [
       "SearchResult containing 5 data products.\n",
       "\n",
       " #     mission     year   author  exptime target_name distance\n",
       "                                     s                 arcsec \n",
       "--- -------------- ---- --------- ------- ----------- --------\n",
       "  0 TESS Sector 14 2019      SPOC     120   111790491      0.0\n",
       "  1 TESS Sector 14 2019 TESS-SPOC    1800   111790491      0.0\n",
       "  2 TESS Sector 14 2019       QLP    1800   111790491      0.0\n",
       "  3 TESS Sector 40 2021      SPOC     120   111790491      0.0\n",
       "  4 TESS Sector 41 2021      SPOC     120   111790491      0.0"
      ]
     },
     "execution_count": 3,
     "metadata": {},
     "output_type": "execute_result"
    }
   ],
   "source": [
    "result = lk.search_lightcurve('TIC 111790491', mission = 'Tess')\n",
    "result"
   ]
  },
  {
   "cell_type": "code",
   "execution_count": null,
   "id": "61a0e271",
   "metadata": {},
   "outputs": [],
   "source": []
  }
 ],
 "metadata": {
  "kernelspec": {
   "display_name": "Python 3",
   "language": "python",
   "name": "python3"
  },
  "language_info": {
   "codemirror_mode": {
    "name": "ipython",
    "version": 3
   },
   "file_extension": ".py",
   "mimetype": "text/x-python",
   "name": "python",
   "nbconvert_exporter": "python",
   "pygments_lexer": "ipython3",
   "version": "3.8.8"
  }
 },
 "nbformat": 4,
 "nbformat_minor": 5
}
